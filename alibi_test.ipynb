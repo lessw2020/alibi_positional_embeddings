{
 "cells": [
  {
   "cell_type": "code",
   "execution_count": 1,
   "metadata": {},
   "outputs": [],
   "source": [
    "import torch\n",
    "import torch.nn as nn\n",
    "from torch import Tensor\n",
    "import math"
   ]
  },
  {
   "cell_type": "code",
   "execution_count": 2,
   "metadata": {},
   "outputs": [],
   "source": [
    "def get_slopes(num_heads):\n",
    "        \"\"\"for n heads, a set of slopes is the geometric sequence that starts\n",
    "        2^(-8/n) and uses this same value as its ratio\n",
    "\n",
    "        \"\"\"\n",
    "\n",
    "        def get_slopes_power_of_2(n):\n",
    "            start = 2 ** (-(2 ** -(math.log2(n) - 3)))\n",
    "            ratio = start\n",
    "            return [start * ratio**i for i in range(n)]\n",
    "\n",
    "        if math.log2(num_heads).is_integer():\n",
    "            return get_slopes_power_of_2(num_heads)\n",
    "\n",
    "        # paper authors note they only trained models that have 2^a heads for some a.\n",
    "        # This has beneficial properties related to input being power of 2.\n",
    "        # Closest power of 2 below is workaround for when num of heads is not power of 2\n",
    "\n",
    "        closest_power_of_2 = 2 ** math.floor(math.log2(num_heads))\n",
    "        return (\n",
    "            get_slopes_power_of_2(closest_power_of_2)\n",
    "            + get_slopes_power_of_2(2 * closest_power_of_2)[0::2][\n",
    "                : num_heads - closest_power_of_2\n",
    "            ]\n",
    "        )"
   ]
  },
  {
   "cell_type": "code",
   "execution_count": 7,
   "metadata": {},
   "outputs": [],
   "source": [
    "res = get_slopes(4)"
   ]
  },
  {
   "cell_type": "code",
   "execution_count": 8,
   "metadata": {},
   "outputs": [
    {
     "data": {
      "text/plain": [
       "[0.25, 0.0625, 0.015625, 0.00390625]"
      ]
     },
     "execution_count": 8,
     "metadata": {},
     "output_type": "execute_result"
    }
   ],
   "source": [
    "res"
   ]
  },
  {
   "cell_type": "code",
   "execution_count": null,
   "metadata": {},
   "outputs": [],
   "source": []
  }
 ],
 "metadata": {
  "kernelspec": {
   "display_name": "pytorch",
   "language": "python",
   "name": "python3"
  },
  "language_info": {
   "codemirror_mode": {
    "name": "ipython",
    "version": 3
   },
   "file_extension": ".py",
   "mimetype": "text/x-python",
   "name": "python",
   "nbconvert_exporter": "python",
   "pygments_lexer": "ipython3",
   "version": "3.9.16"
  },
  "orig_nbformat": 4
 },
 "nbformat": 4,
 "nbformat_minor": 2
}
